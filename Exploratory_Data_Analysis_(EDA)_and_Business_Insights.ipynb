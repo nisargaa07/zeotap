{
  "nbformat": 4,
  "nbformat_minor": 0,
  "metadata": {
    "colab": {
      "provenance": [],
      "authorship_tag": "ABX9TyNN74S9EX6ShUiZg5aSTzCr",
      "include_colab_link": true
    },
    "kernelspec": {
      "name": "python3",
      "display_name": "Python 3"
    },
    "language_info": {
      "name": "python"
    }
  },
  "cells": [
    {
      "cell_type": "markdown",
      "metadata": {
        "id": "view-in-github",
        "colab_type": "text"
      },
      "source": [
        "<a href=\"https://colab.research.google.com/github/nisargaa07/zeotap/blob/main/Exploratory_Data_Analysis_(EDA)_and_Business_Insights.ipynb\" target=\"_parent\"><img src=\"https://colab.research.google.com/assets/colab-badge.svg\" alt=\"Open In Colab\"/></a>"
      ]
    },
    {
      "cell_type": "code",
      "source": [
        "import pandas as pd\n",
        "\n",
        "# Load the dataset\n",
        "data = pd.read_csv('/content/Customers.csv')\n",
        "\n",
        "# Convert SignupDate to datetime format\n",
        "data['SignupDate'] = pd.to_datetime(data['SignupDate'])\n",
        "\n",
        "# Deriving Insights\n",
        "# 1. Count of customers by region\n",
        "region_counts = data['Region'].value_counts()\n",
        "\n",
        "# 2. Identify the first and last signup dates\n",
        "first_signup = data['SignupDate'].min()\n",
        "last_signup = data['SignupDate'].max()\n",
        "\n",
        "# 3. Calculate number of customers signed up per year\n",
        "data['Year'] = data['SignupDate'].dt.year\n",
        "signups_per_year = data['Year'].value_counts().sort_index()\n",
        "\n",
        "# 4. Get details of the most recent customer\n",
        "recent_customer = data.loc[data['SignupDate'].idxmax()]\n",
        "\n",
        "# 5. Count the number of unique regions\n",
        "unique_regions = data['Region'].nunique()\n",
        "\n",
        "# Display Results\n",
        "print(\"--- Insights from the Data ---\")\n",
        "print(\"1. Customer Distribution by Region:\")\n",
        "print(region_counts)\n",
        "\n",
        "print(\"\\n2. First and Last Signup Dates:\")\n",
        "print(f\"First Signup: {first_signup}\")\n",
        "print(f\"Last Signup: {last_signup}\")\n",
        "\n",
        "print(\"\\n3. Annual Signup Trends:\")\n",
        "print(signups_per_year)\n",
        "\n",
        "print(\"\\n4. Most Recent Customer Details:\")\n",
        "print(recent_customer)\n",
        "\n",
        "print(\"\\n5. Total Number of Unique Regions:\")\n",
        "print(unique_regions)\n"
      ],
      "metadata": {
        "colab": {
          "base_uri": "https://localhost:8080/"
        },
        "id": "otq1_YnvRaXR",
        "outputId": "caf568d7-6ad3-40c0-c801-89d724cf24ac"
      },
      "execution_count": 23,
      "outputs": [
        {
          "output_type": "stream",
          "name": "stdout",
          "text": [
            "--- Insights from the Data ---\n",
            "1. Customer Distribution by Region:\n",
            "Region\n",
            "South America    59\n",
            "Europe           50\n",
            "North America    46\n",
            "Asia             45\n",
            "Name: count, dtype: int64\n",
            "\n",
            "2. First and Last Signup Dates:\n",
            "First Signup: 2022-01-22 00:00:00\n",
            "Last Signup: 2024-12-28 00:00:00\n",
            "\n",
            "3. Annual Signup Trends:\n",
            "Year\n",
            "2022    64\n",
            "2023    57\n",
            "2024    79\n",
            "Name: count, dtype: int64\n",
            "\n",
            "4. Most Recent Customer Details:\n",
            "CustomerID                    C0182\n",
            "CustomerName         Joshua Preston\n",
            "Region                       Europe\n",
            "SignupDate      2024-12-28 00:00:00\n",
            "Year                           2024\n",
            "Name: 181, dtype: object\n",
            "\n",
            "5. Total Number of Unique Regions:\n",
            "4\n"
          ]
        }
      ]
    },
    {
      "cell_type": "markdown",
      "source": [
        "**Business Insights**\n",
        "\n",
        "1. The highest number of customers come from South America, indicating it as a strong market region.\n",
        "2. The increasing trend in annual signups suggests growing interest or improved marketing efforts.\n",
        "3. Most customers signed up in 2024, reflecting a potential peak year for customer acquisition.\n",
        "4. The most recent customer is from Europe, which may indicate recent efforts targeting this region.\n",
        "5. With customers from 4 regions, there is an opportunity to expand into untapped geographic markets."
      ],
      "metadata": {
        "id": "_jyXM8kJSGH9"
      }
    }
  ]
}