{
  "nbformat": 4,
  "nbformat_minor": 0,
  "metadata": {
    "colab": {
      "provenance": [],
      "authorship_tag": "ABX9TyM4KCPWqPe7MDIZE620NrwD",
      "include_colab_link": true
    },
    "kernelspec": {
      "name": "python3",
      "display_name": "Python 3"
    },
    "language_info": {
      "name": "python"
    }
  },
  "cells": [
    {
      "cell_type": "markdown",
      "metadata": {
        "id": "view-in-github",
        "colab_type": "text"
      },
      "source": [
        "<a href=\"https://colab.research.google.com/github/nisargaa07/zeotap/blob/main/Looklikemodel.ipynb\" target=\"_parent\"><img src=\"https://colab.research.google.com/assets/colab-badge.svg\" alt=\"Open In Colab\"/></a>"
      ]
    },
    {
      "cell_type": "code",
      "source": [
        "import pandas as pd\n",
        "from sklearn.metrics.pairwise import cosine_similarity\n",
        "from sklearn.preprocessing import StandardScaler\n",
        "\n",
        "# Load the datasets\n",
        "customers = pd.read_csv('/content/Customers.csv')\n",
        "products = pd.read_csv('/content/Products.csv')\n",
        "transactions = pd.read_csv('/content/Transactions.csv')\n",
        "\n",
        "# Merge transactions with products to include product details\n",
        "transactions = transactions.merge(products, on='ProductID', how='left')\n",
        "\n",
        "# Feature Engineering: Create a customer-product matrix\n",
        "customer_product_matrix = transactions.pivot_table(\n",
        "    index='CustomerID',\n",
        "    columns='ProductID',\n",
        "    values='Quantity',\n",
        "    aggfunc='sum',\n",
        "    fill_value=0\n",
        ")\n",
        "\n",
        "# Normalize the matrix for better similarity computation\n",
        "scaler = StandardScaler()\n",
        "customer_product_matrix_scaled = scaler.fit_transform(customer_product_matrix)\n",
        "\n",
        "# Compute similarity scores using cosine similarity\n",
        "similarity_matrix = cosine_similarity(customer_product_matrix_scaled)\n",
        "\n",
        "# Convert similarity matrix to a DataFrame for easier handling\n",
        "similarity_df = pd.DataFrame(similarity_matrix,\n",
        "                             index=customer_product_matrix.index,\n",
        "                             columns=customer_product_matrix.index)\n",
        "\n",
        "# Function to get top 3 lookalikes for each customer\n",
        "def get_top_lookalikes(similarity_df, top_n=3):\n",
        "    lookalike_map = {}\n",
        "    for customer_id in similarity_df.index[:20]:  # First 20 customers (C0001 - C0020)\n",
        "        similar_customers = similarity_df[customer_id].sort_values(ascending=False)[1:top_n+1]\n",
        "        # Store the top lookalikes\n",
        "        lookalike_map[customer_id] = [(cust_id, score) for cust_id, score in zip(similar_customers.index, similar_customers.values)]\n",
        "    return lookalike_map\n",
        "\n",
        "# Get lookalikes\n",
        "lookalike_map = get_top_lookalikes(similarity_df)\n",
        "\n",
        "# Flatten the lookalike map into rows suitable for CSV\n",
        "lookalike_list = []\n",
        "for cust_id, lookalikes in lookalike_map.items():\n",
        "    row = {'CustomerID': cust_id}\n",
        "    for i, (similar_cust_id, score) in enumerate(lookalikes, 1):\n",
        "        row[f'LookalikeID_{i}'] = similar_cust_id\n",
        "        row[f'SimilarityScore_{i}'] = score\n",
        "    lookalike_list.append(row)\n",
        "\n",
        "# Convert the list of dictionaries into a DataFrame\n",
        "lookalike_df = pd.DataFrame(lookalike_list)\n",
        "\n",
        "# Save the lookalike map to a CSV file\n",
        "lookalike_df.to_csv('Lookalike.csv', index=False)\n",
        "\n",
        "# Confirmation and output\n",
        "print(\"Lookalike map saved to 'Lookalike.csv'\")\n",
        "print(lookalike_df.head(20))  # Preview of the first few records in the DataFrame\n"
      ],
      "metadata": {
        "colab": {
          "base_uri": "https://localhost:8080/"
        },
        "id": "CkgiWHp5iWbR",
        "outputId": "38d3d4c0-008e-4148-f35b-3b50355ecac8"
      },
      "execution_count": 11,
      "outputs": [
        {
          "output_type": "stream",
          "name": "stdout",
          "text": [
            "Lookalike map saved to 'Lookalike.csv'\n",
            "   CustomerID LookalikeID_1  SimilarityScore_1 LookalikeID_2  \\\n",
            "0       C0001         C0194           0.404928         C0104   \n",
            "1       C0002         C0030           0.404617         C0091   \n",
            "2       C0003         C0181           0.477572         C0134   \n",
            "3       C0004         C0070           0.351901         C0175   \n",
            "4       C0005         C0096           0.487456         C0023   \n",
            "5       C0006         C0040           0.486909         C0178   \n",
            "6       C0007         C0079           0.617442         C0118   \n",
            "7       C0008         C0144           0.326751         C0169   \n",
            "8       C0009         C0140           0.533441         C0083   \n",
            "9       C0010         C0094           0.515064         C0092   \n",
            "10      C0011         C0135           0.513283         C0120   \n",
            "11      C0012         C0164           0.488257         C0158   \n",
            "12      C0013         C0169           0.450756         C0092   \n",
            "13      C0014         C0128           0.902943         C0159   \n",
            "14      C0015         C0073           0.723119         C0036   \n",
            "15      C0016         C0187           0.634464         C0064   \n",
            "16      C0017         C0071           0.455521         C0024   \n",
            "17      C0018         C0177           0.365073         C0115   \n",
            "18      C0019         C0064           0.397782         C0024   \n",
            "19      C0020         C0026           0.627069         C0104   \n",
            "\n",
            "    SimilarityScore_2 LookalikeID_3  SimilarityScore_3  \n",
            "0            0.374002         C0020           0.366609  \n",
            "1            0.383778         C0071           0.320158  \n",
            "2            0.471016         C0144           0.423800  \n",
            "3            0.316098         C0132           0.279599  \n",
            "4            0.470252         C0055           0.382100  \n",
            "5            0.397811         C0058           0.314163  \n",
            "6            0.478277         C0020           0.456615  \n",
            "7            0.278885         C0091           0.260560  \n",
            "8            0.530842         C0162           0.498893  \n",
            "9            0.405517         C0143           0.366012  \n",
            "10           0.365189         C0173           0.304761  \n",
            "11           0.375130         C0173           0.356233  \n",
            "12           0.367680         C0099           0.317245  \n",
            "13           0.762785         C0058           0.417025  \n",
            "14           0.599711         C0059           0.450981  \n",
            "15           0.540293         C0052           0.458331  \n",
            "16           0.358756         C0037           0.355628  \n",
            "17           0.324832         C0059           0.311899  \n",
            "18           0.385943         C0084           0.312646  \n",
            "19           0.472465         C0007           0.456615  \n"
          ]
        }
      ]
    },
    {
      "cell_type": "code",
      "source": [
        "from google.colab import files\n",
        "\n",
        "# Download the CSV file\n",
        "files.download('Lookalike.csv')\n"
      ],
      "metadata": {
        "colab": {
          "base_uri": "https://localhost:8080/",
          "height": 17
        },
        "id": "V4Z1sc5qiokB",
        "outputId": "1fee8a11-0f20-486c-e142-6e5224cd7591"
      },
      "execution_count": 12,
      "outputs": [
        {
          "output_type": "display_data",
          "data": {
            "text/plain": [
              "<IPython.core.display.Javascript object>"
            ],
            "application/javascript": [
              "\n",
              "    async function download(id, filename, size) {\n",
              "      if (!google.colab.kernel.accessAllowed) {\n",
              "        return;\n",
              "      }\n",
              "      const div = document.createElement('div');\n",
              "      const label = document.createElement('label');\n",
              "      label.textContent = `Downloading \"${filename}\": `;\n",
              "      div.appendChild(label);\n",
              "      const progress = document.createElement('progress');\n",
              "      progress.max = size;\n",
              "      div.appendChild(progress);\n",
              "      document.body.appendChild(div);\n",
              "\n",
              "      const buffers = [];\n",
              "      let downloaded = 0;\n",
              "\n",
              "      const channel = await google.colab.kernel.comms.open(id);\n",
              "      // Send a message to notify the kernel that we're ready.\n",
              "      channel.send({})\n",
              "\n",
              "      for await (const message of channel.messages) {\n",
              "        // Send a message to notify the kernel that we're ready.\n",
              "        channel.send({})\n",
              "        if (message.buffers) {\n",
              "          for (const buffer of message.buffers) {\n",
              "            buffers.push(buffer);\n",
              "            downloaded += buffer.byteLength;\n",
              "            progress.value = downloaded;\n",
              "          }\n",
              "        }\n",
              "      }\n",
              "      const blob = new Blob(buffers, {type: 'application/binary'});\n",
              "      const a = document.createElement('a');\n",
              "      a.href = window.URL.createObjectURL(blob);\n",
              "      a.download = filename;\n",
              "      div.appendChild(a);\n",
              "      a.click();\n",
              "      div.remove();\n",
              "    }\n",
              "  "
            ]
          },
          "metadata": {}
        },
        {
          "output_type": "display_data",
          "data": {
            "text/plain": [
              "<IPython.core.display.Javascript object>"
            ],
            "application/javascript": [
              "download(\"download_3dc5493c-10c2-4cde-9bf7-90f28a7ef536\", \"Lookalike.csv\", 1747)"
            ]
          },
          "metadata": {}
        }
      ]
    }
  ]
}